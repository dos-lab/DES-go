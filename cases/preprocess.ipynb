{
 "cells": [
  {
   "cell_type": "code",
   "execution_count": 1,
   "metadata": {
    "collapsed": true
   },
   "outputs": [],
   "source": [
    "import os.path\n",
    "\n",
    "import pandas as pd\n",
    "import numpy as np\n",
    "import random"
   ]
  },
  {
   "cell_type": "code",
   "execution_count": 2,
   "outputs": [],
   "source": [
    "DATA_DIR = \"~/datasets/ali-cluster/cluster-trace-gpu-v2020/data\"\n",
    "\n",
    "def get_df(file, header=None):\n",
    "    df = pd.read_csv(file, header=None)\n",
    "    # df.columns = DF_HEADER.get(key, df.columns)\n",
    "    df.columns = pd.read_csv(\"{}.header\".format(file.split('.csv')[0])).columns if header is None else header\n",
    "    return df"
   ],
   "metadata": {
    "collapsed": false,
    "pycharm": {
     "name": "#%%\n"
    }
   }
  },
  {
   "cell_type": "code",
   "execution_count": 46,
   "outputs": [],
   "source": [
    "def get_df_one_inst(dft, dfj):\n",
    "    # 过滤掉太短的任务，它们有可能是inference任务。\n",
    "    min_run_time = 1000.\n",
    "    dfa = dft.merge(dfj, on=['job_name'], suffixes = ['','_j'])\n",
    "    dfa.loc[dfa.start_time==0, 'start_time'] = np.nan\n",
    "    dfa.loc[dfa.start_time==0, 'end_time'] = np.nan\n",
    "    dfa['runtime'] = dfa.end_time - dfa.start_time\n",
    "    df_target = dfa[\n",
    "        (dfa['status'] == 'Terminated') &\n",
    "        (dfa['gpu_type'] != 'MISC') &\n",
    "        (dfa['plan_gpu'] == 100.0) &\n",
    "        (dfa['inst_num'] == 1.0) &\n",
    "        (dfa['end_time'] - dfa['start_time'] >= min_run_time) &\n",
    "        (dfa['task_name'].isin(['tensorflow', 'PyTorchWorker', 'worker']))]\n",
    "    df_target = df_target.sort_values(['start_time_j'])\n",
    "    df_target['norm_job_submit_time'] = df_target.start_time_j - df_target.iloc[0]['start_time_j'].item()\n",
    "    df_target = df_target.drop_duplicates(['job_name'], keep='first')\n",
    "    print(df_target[df_target['gpu_type'] == 'V100M32'].shape)\n",
    "    print(\"T4 shape\", df_target[df_target['gpu_type'] == 'T4'].shape)\n",
    "    df_target.loc[df_target.gpu_type == 'V100M32', 'gpu_type'] = 'V100'\n",
    "    return df_target"
   ],
   "metadata": {
    "collapsed": false,
    "pycharm": {
     "name": "#%%\n"
    }
   }
  },
  {
   "cell_type": "code",
   "execution_count": 47,
   "outputs": [],
   "source": [
    "def gen_ddl_and_gpu_runtimes(df_one_inst):\n",
    "    gpu_types = [str(t) for t in df_one_inst['gpu_type'].unique()]\n",
    "    \"\"\"\n",
    "    configs\n",
    "    \"\"\"\n",
    "    runtimes = {\n",
    "        'T4': (1, 1),\n",
    "        'P100': (1.4, 2.),\n",
    "        'V100': (2.4, 2.66),\n",
    "    }\n",
    "    assert set(runtimes.keys()) == set(list(gpu_types))\n",
    "    ddl_ratio = 10\n",
    "    ddl_range = (1.2, 3.0)\n",
    "    jobs_count = 5000\n",
    "    submit_together = True\n",
    "    df_one_inst = df_one_inst[['job_name', 'gpu_type', 'runtime', 'norm_job_submit_time']]\n",
    "    df_one_inst = df_one_inst[:jobs_count]\n",
    "\n",
    "    print(df_one_inst.shape)\n",
    "    print(\"print\", df_one_inst.iloc[0:100, :])\n",
    "    \"\"\"\n",
    "    end configs\n",
    "    \"\"\"\n",
    "\n",
    "    def gen_runtime(from_gpu, to_gpu, origin_runtime):\n",
    "        if from_gpu == to_gpu:\n",
    "            return origin_runtime\n",
    "        if from_gpu not in gpu_types:\n",
    "            print(\"not in gpu_types:\", from_gpu)\n",
    "        to_rand = random.uniform(*runtimes[to_gpu])\n",
    "        from_rand = random.uniform(*runtimes[from_gpu])\n",
    "        return int(origin_runtime * to_rand / from_rand)\n",
    "\n",
    "    def gen_ddl(norm_submit_time, runtime):\n",
    "        if random.randint(0, 100) < ddl_ratio:\n",
    "            return int(norm_submit_time + runtime * random.uniform(*ddl_range))\n",
    "        return np.inf\n",
    "\n",
    "    for gpu_type in gpu_types:\n",
    "        df_one_inst.loc[:, gpu_type] = df_one_inst.apply(lambda x: gen_runtime(x.gpu_type, gpu_type, x.runtime), axis=1)\n",
    "    df_one_inst.loc[:, 'ddl'] = df_one_inst.apply(lambda x: gen_ddl(x.norm_job_submit_time, x.runtime), axis=1)\n",
    "\n",
    "    if submit_together:\n",
    "        df_one_inst = df_one_inst.iloc[np.random.permutation(len(df_one_inst))]\n",
    "        df_one_inst.loc[:, 'ddl'] = df_one_inst.apply(lambda x: x['ddl'] - x['norm_job_submit_time'], axis=1)\n",
    "        df_one_inst.loc[:, 'norm_job_submit_time'] = df_one_inst.apply(lambda x: 0, axis=1)\n",
    "    df_output = df_one_inst[['job_name', 'norm_job_submit_time', 'ddl', *gpu_types]]\n",
    "    print(\"output: \", df_output.shape)\n",
    "    to_csv(df_output, f\"case_{jobs_count}_all_{ddl_ratio}_ddl.csv\")"
   ],
   "metadata": {
    "collapsed": false,
    "pycharm": {
     "name": "#%%\n"
    }
   }
  },
  {
   "cell_type": "code",
   "execution_count": 48,
   "outputs": [],
   "source": [
    "def to_csv(df, name):\n",
    "    df = df.reset_index(drop=True)\n",
    "    df.to_csv(name)"
   ],
   "metadata": {
    "collapsed": false,
    "pycharm": {
     "name": "#%%\n"
    }
   }
  },
  {
   "cell_type": "code",
   "execution_count": 49,
   "outputs": [
    {
     "name": "stdout",
     "output_type": "stream",
     "text": [
      "V100M32 shape (3603, 17)\n",
      "V100 shape (3851, 17)\n",
      "T4 shape (10988, 17)\n",
      "P100 shape (17795, 17)\n",
      "(5000, 4)\n",
      "print                         job_name gpu_type   runtime  norm_job_submit_time\n",
      "273363  34b3d819023ea21e28afd50f       T4  176371.0                   0.0\n",
      "200169  af3b0f5e810838d6c33840e1       T4  109920.0               65724.0\n",
      "88329   8b3581e39780f46e28e48c4a     P100  240371.0               66246.0\n",
      "296404  e3789c5e546bbbe82007127f     P100  232288.0               66313.0\n",
      "388556  8dc5b00629f823cf8d30cade     P100  157663.0               66385.0\n",
      "...                          ...      ...       ...                   ...\n",
      "343013  dbbc7b184fb67cf1ff4254b5       T4    1190.0              184504.0\n",
      "426284  ea3bd3de4cb78d2bd1a06619     P100    1188.0              185251.0\n",
      "413142  5487ca4ba4dbb22cda463042     P100    1157.0              185313.0\n",
      "277222  493650beeaaa64eb0504c911     P100    1476.0              185338.0\n",
      "453788  4f0246b30625281fa3d0b537     P100    2081.0              185372.0\n",
      "\n",
      "[100 rows x 4 columns]\n",
      "output:  (5000, 6)\n",
      "Empty DataFrame\n",
      "Columns: [job_name, norm_job_submit_time, ddl, T4, P100, V100]\n",
      "Index: []\n"
     ]
    }
   ],
   "source": [
    "def main():\n",
    "    dft = get_df(os.path.join(DATA_DIR, \"pai_task_table.csv\"))\n",
    "    dfj = get_df(os.path.join(DATA_DIR, \"pai_job_table.csv\"))\n",
    "    df = get_df_one_inst(dft, dfj)\n",
    "    gen_ddl_and_gpu_runtimes(df)\n",
    "\n",
    "if __name__ == '__main__':\n",
    "    main()"
   ],
   "metadata": {
    "collapsed": false,
    "pycharm": {
     "name": "#%%\n"
    }
   }
  },
  {
   "cell_type": "code",
   "execution_count": 49,
   "outputs": [
    {
     "name": "stdout",
     "output_type": "stream",
     "text": [
      "(6278, 17)\n"
     ]
    }
   ],
   "source": [
    "\n",
    "dft = get_df(os.path.join(DATA_DIR, \"pai_task_table.csv\"))\n",
    "dfj = get_df(os.path.join(DATA_DIR, \"pai_job_table.csv\"))\n",
    "df_one_inst = get_df_one_inst(dft, dfj)"
   ],
   "metadata": {
    "collapsed": false,
    "pycharm": {
     "name": "#%%\n"
    }
   }
  },
  {
   "cell_type": "code",
   "execution_count": 50,
   "outputs": [
    {
     "name": "stdout",
     "output_type": "stream",
     "text": [
      "Empty DataFrame\n",
      "Columns: [job_name, gpu_type, runtime, norm_job_submit_time]\n",
      "Index: []\n",
      "Empty DataFrame\n",
      "Columns: [job_name, norm_job_submit_time, ddl, T4, P100, V100]\n",
      "Index: []\n"
     ]
    }
   ],
   "source": [
    "gen_ddl_and_gpu_runtimes(df_one_inst)"
   ],
   "metadata": {
    "collapsed": false,
    "pycharm": {
     "name": "#%%\n"
    }
   }
  }
 ],
 "metadata": {
  "kernelspec": {
   "display_name": "Python 3",
   "language": "python",
   "name": "python3"
  },
  "language_info": {
   "codemirror_mode": {
    "name": "ipython",
    "version": 2
   },
   "file_extension": ".py",
   "mimetype": "text/x-python",
   "name": "python",
   "nbconvert_exporter": "python",
   "pygments_lexer": "ipython2",
   "version": "2.7.6"
  }
 },
 "nbformat": 4,
 "nbformat_minor": 0
}